{
  "nbformat": 4,
  "nbformat_minor": 0,
  "metadata": {
    "colab": {
      "name": "Cracking Coding Interview.ipynb",
      "provenance": [],
      "toc_visible": true
    },
    "kernelspec": {
      "name": "python3",
      "display_name": "Python 3"
    }
  },
  "cells": [
    {
      "cell_type": "markdown",
      "metadata": {
        "id": "l4li4c70gXsO",
        "colab_type": "text"
      },
      "source": [
        "# Lesson 1 - Arrays and Strings\n"
      ]
    },
    {
      "cell_type": "markdown",
      "metadata": {
        "id": "4eIygqlUgdB5",
        "colab_type": "text"
      },
      "source": [
        "## 1.1\n"
      ]
    },
    {
      "cell_type": "code",
      "metadata": {
        "id": "KSaT571JghUn",
        "colab_type": "code",
        "colab": {
          "base_uri": "https://localhost:8080/",
          "height": 34
        },
        "outputId": "788caa76-d973-46bd-881e-9654341a6e83"
      },
      "source": [
        "str = input()\n",
        "\n",
        "\n",
        "def test_unique(s):\n",
        "  if len(s) > 256:\n",
        "    return False\n",
        "  else:\n",
        "    a = [0]*256\n",
        "    for c in s:\n",
        "      if a[ord(c)] == 1:\n",
        "        return False\n",
        "      else:\n",
        "        a[ord(c)] = 1\n",
        "    return True\n",
        "\n",
        "test_unique(str)\n",
        "\n",
        "# Test Cases\n",
        "#str1 = 'test string'\n",
        "#str2 = 'abcde'\n",
        "\n",
        "#print(test_unique(str1))\n",
        "#print(test_unique(str2))\n",
        "\n"
      ],
      "execution_count": 19,
      "outputs": [
        {
          "output_type": "execute_result",
          "data": {
            "text/plain": [
              "True"
            ]
          },
          "metadata": {
            "tags": []
          },
          "execution_count": 19
        }
      ]
    },
    {
      "cell_type": "markdown",
      "metadata": {
        "id": "l5kdFIGOlVPc",
        "colab_type": "text"
      },
      "source": [
        "## 1.2"
      ]
    },
    {
      "cell_type": "code",
      "metadata": {
        "id": "YxUQLNmnlXtU",
        "colab_type": "code",
        "colab": {
          "base_uri": "https://localhost:8080/",
          "height": 34
        },
        "outputId": "ef716057-730b-4129-f07e-18265836349d"
      },
      "source": [
        "#str = input()\n",
        "\n",
        "#Character swapping did not work for strings\n",
        "str = 'fdbn kh'\n",
        "def reverse_string(s):\n",
        "  n = len(s)\n",
        "  a = ['a']*n\n",
        "  for i in range(n):\n",
        "    a[i] = s[n-i-1]\n",
        "  return ''.join(a)\n",
        "\n",
        "print(reverse_string(str))\n",
        "\n"
      ],
      "execution_count": 28,
      "outputs": [
        {
          "output_type": "stream",
          "text": [
            "hk nbdf\n"
          ],
          "name": "stdout"
        }
      ]
    },
    {
      "cell_type": "markdown",
      "metadata": {
        "id": "KpahaOsKpJ6T",
        "colab_type": "text"
      },
      "source": [
        "## 1.3"
      ]
    },
    {
      "cell_type": "code",
      "metadata": {
        "id": "pkej5NYEnjBL",
        "colab_type": "code",
        "colab": {
          "base_uri": "https://localhost:8080/",
          "height": 34
        },
        "outputId": "688c3bf8-805c-4de8-c4e7-ee441e9f04f4"
      },
      "source": [
        "str1 = 'fghj'\n",
        "str2 = 'ghgf'\n",
        "\n",
        "def string_per(s1,s2):\n",
        "  dict1 = {}\n",
        "  dict2 = {}\n",
        "  if len(s1) != len(s2):\n",
        "    return False\n",
        "  for c in str1:\n",
        "    if c in dict1.keys():\n",
        "      dict1[c] = dict1[c] + 1\n",
        "    else:\n",
        "      dict1[c] = 1\n",
        "  for c in str2:\n",
        "    if c in dict1.keys():\n",
        "      if dict1[c] > 0:\n",
        "        dict1[c] = dict1[c] - 1\n",
        "      else:\n",
        "        return False\n",
        "    else:\n",
        "      return False\n",
        "  return True\n",
        "\n",
        "string_per(str1,str2)"
      ],
      "execution_count": 39,
      "outputs": [
        {
          "output_type": "execute_result",
          "data": {
            "text/plain": [
              "False"
            ]
          },
          "metadata": {
            "tags": []
          },
          "execution_count": 39
        }
      ]
    },
    {
      "cell_type": "markdown",
      "metadata": {
        "id": "YHtY5pyRsZq6",
        "colab_type": "text"
      },
      "source": [
        "## 1.4"
      ]
    },
    {
      "cell_type": "code",
      "metadata": {
        "id": "tGuNp-ifscWt",
        "colab_type": "code",
        "colab": {
          "base_uri": "https://localhost:8080/",
          "height": 34
        },
        "outputId": "64e34c54-f9f7-4ba7-bd17-8dee21f20122"
      },
      "source": [
        "str = 'fgd jseu hff'\n",
        "#in Place replace\n",
        "def format_space(s):\n",
        "  count = 0\n",
        "  i = 0\n",
        "  a = [' ']*3*len(s)\n",
        "  for c in s:\n",
        "    if c == ' ':\n",
        "      count = count + 1\n",
        "      a[i] = '%'\n",
        "      a[i+1] = '2'\n",
        "      a[i+2] = '0'\n",
        "      i = i +2\n",
        "    else:\n",
        "      a[i] = c\n",
        "    i = i +1\n",
        "  length = len(s) + count*2\n",
        "  return ''.join(a[:length])\n",
        "\n",
        "print(format_space(str))"
      ],
      "execution_count": 42,
      "outputs": [
        {
          "output_type": "stream",
          "text": [
            "fgd%20jseu%20hff\n"
          ],
          "name": "stdout"
        }
      ]
    },
    {
      "cell_type": "markdown",
      "metadata": {
        "id": "e2YHS0KzxhTR",
        "colab_type": "text"
      },
      "source": [
        "## 1.5"
      ]
    },
    {
      "cell_type": "code",
      "metadata": {
        "id": "X7LG3Xf_vOFn",
        "colab_type": "code",
        "colab": {
          "base_uri": "https://localhost:8080/",
          "height": 34
        },
        "outputId": "ff7de0f5-519a-4b78-dc0b-7d813b24ed66"
      },
      "source": [
        "str1 = 'aabbcaa'\n",
        "\n",
        "def string_compress(s):\n",
        "  j = 0\n",
        "  a = [' ']*len(s)\n",
        "  try:\n",
        "    a[j] = s[0]\n",
        "    a[j+1] = 1\n",
        "    for i in range(1,len(s)):\n",
        "      c = s[i]\n",
        "      prev_c = s[i-1]\n",
        "      if c == prev_c:\n",
        "        a[j+1] = a[j+1] + 1\n",
        "      else:\n",
        "        j = j +2\n",
        "        a[j] = c\n",
        "        a[j+1] = 1\n",
        "    if len(s) == j+2:\n",
        "      return s\n",
        "    \n",
        "    for i in range(len(a)):\n",
        "      a[i] = str(a[i])\n",
        "    return ''.join(a)\n",
        "  except IndexError:\n",
        "    return s\n",
        "\n",
        "print(string_compress(str1))"
      ],
      "execution_count": 62,
      "outputs": [
        {
          "output_type": "stream",
          "text": [
            "aabbcaa\n"
          ],
          "name": "stdout"
        }
      ]
    },
    {
      "cell_type": "markdown",
      "metadata": {
        "id": "YNm3Bl_179HW",
        "colab_type": "text"
      },
      "source": [
        "## 1.6 - Matrix Rotation In Place"
      ]
    },
    {
      "cell_type": "code",
      "metadata": {
        "id": "07GK7SHg8BbH",
        "colab_type": "code",
        "colab": {
          "base_uri": "https://localhost:8080/",
          "height": 187
        },
        "outputId": "9eb13669-fbd9-4723-fc38-387ccf0ceb66"
      },
      "source": [
        "mat = [[1 , 2 , 3, 4,5],[6,7,8,9 ,10],[11,12,13,14,15],[16,17,18,19,20],[21,22,23,24,25]]\n",
        "N = len(mat)\n",
        "\n",
        "iter = int(N/2)\n",
        "for i in mat:\n",
        "  print(i)\n",
        "\n",
        "start = 0\n",
        "end = N-1\n",
        "for j in range(iter):\n",
        "  for i in range(end-start):\n",
        "    temp = mat[start][start+i]\n",
        "    mat[start][start+i] = mat[start+i][end]\n",
        "    mat[start+i][end] = mat[end][end-i]\n",
        "    mat[end][end-i] = mat[end-i][start]\n",
        "    mat[end-i][start] = temp\n",
        "  start = start +1\n",
        "  end = end -1\n",
        "\n",
        "\n",
        "for i in mat:\n",
        "  print(i)"
      ],
      "execution_count": 76,
      "outputs": [
        {
          "output_type": "stream",
          "text": [
            "[1, 2, 3, 4, 5]\n",
            "[6, 7, 8, 9, 10]\n",
            "[11, 12, 13, 14, 15]\n",
            "[16, 17, 18, 19, 20]\n",
            "[21, 22, 23, 24, 25]\n",
            "[5, 10, 15, 20, 25]\n",
            "[4, 9, 14, 19, 24]\n",
            "[3, 8, 13, 18, 23]\n",
            "[2, 7, 12, 17, 22]\n",
            "[1, 6, 11, 16, 21]\n"
          ],
          "name": "stdout"
        }
      ]
    },
    {
      "cell_type": "markdown",
      "metadata": {
        "id": "c3jo0fICLx-B",
        "colab_type": "text"
      },
      "source": [
        "## 1.7"
      ]
    },
    {
      "cell_type": "code",
      "metadata": {
        "id": "mRtT6NAVGFYf",
        "colab_type": "code",
        "colab": {
          "base_uri": "https://localhost:8080/",
          "height": 187
        },
        "outputId": "c241478f-a99a-4ebb-f6a5-7af244e91ba2"
      },
      "source": [
        "mat = [[1 , 2 , 0, 4,5],[6,7,8,9 ,10],[0,12,13,14,15],[16,17,18,19,20],[21,22,23,24,25]]\n",
        "\n",
        "M = len(mat)\n",
        "N = len(mat[0])\n",
        "\n",
        "row_dict = []\n",
        "col_dict = []\n",
        "\n",
        "for i in mat:\n",
        "  print(i)\n",
        "\n",
        "for row in range(M):\n",
        "  for column in range(N):\n",
        "    if mat[row][column] == 0:\n",
        "      row_dict.append(row)\n",
        "      col_dict.append(column)\n",
        "\n",
        "for row in range(M):\n",
        "  for column in range(N):\n",
        "    if (row in row_dict) | (column in col_dict):\n",
        "      mat[row][column] = 0\n",
        "\n",
        "for i in mat:\n",
        "  print(i)"
      ],
      "execution_count": 78,
      "outputs": [
        {
          "output_type": "stream",
          "text": [
            "[1, 2, 0, 4, 5]\n",
            "[6, 7, 8, 9, 10]\n",
            "[0, 12, 13, 14, 15]\n",
            "[16, 17, 18, 19, 20]\n",
            "[21, 22, 23, 24, 25]\n",
            "[0, 0, 0, 0, 0]\n",
            "[0, 7, 0, 9, 10]\n",
            "[0, 0, 0, 0, 0]\n",
            "[0, 17, 0, 19, 20]\n",
            "[0, 22, 0, 24, 25]\n"
          ],
          "name": "stdout"
        }
      ]
    },
    {
      "cell_type": "markdown",
      "metadata": {
        "id": "ZLADsJbfOAFE",
        "colab_type": "text"
      },
      "source": [
        "## 1.8"
      ]
    },
    {
      "cell_type": "code",
      "metadata": {
        "id": "aFsvWxnQNmx4",
        "colab_type": "code",
        "colab": {}
      },
      "source": [
        "s = s1+s1\n",
        "issubstring(s,s2)"
      ],
      "execution_count": 0,
      "outputs": []
    },
    {
      "cell_type": "markdown",
      "metadata": {
        "id": "9IvUr8547kYf",
        "colab_type": "text"
      },
      "source": [
        "# Lesson 2"
      ]
    },
    {
      "cell_type": "markdown",
      "metadata": {
        "id": "2qEOaeuf7oCB",
        "colab_type": "text"
      },
      "source": [
        "2.1"
      ]
    },
    {
      "cell_type": "code",
      "metadata": {
        "id": "VhIgELYS7o0k",
        "colab_type": "code",
        "colab": {}
      },
      "source": [
        ""
      ],
      "execution_count": 0,
      "outputs": []
    }
  ]
}